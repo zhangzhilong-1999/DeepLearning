{
 "cells": [
  {
   "cell_type": "code",
   "execution_count": 3,
   "metadata": {},
   "outputs": [
    {
     "name": "stdout",
     "output_type": "stream",
     "text": [
      "0.15722523767694097\n",
      "<class 'float'>\n"
     ]
    }
   ],
   "source": [
    "import numpy as np\n",
    "print(np.random.rand())  # 返回一个0到1之间的随机浮点数\n",
    "print(type(np.random.rand()))"
   ]
  },
  {
   "cell_type": "code",
   "execution_count": 5,
   "metadata": {},
   "outputs": [
    {
     "name": "stdout",
     "output_type": "stream",
     "text": [
      "[[ 0.82004955 -1.0411641 ]\n",
      " [ 0.08118093 -0.26476482]]\n",
      "<class 'numpy.ndarray'>\n"
     ]
    }
   ],
   "source": [
    "print(np.random.randn(2,2))  # 返回一个标准正态分布（均值为0，方差为1）的随机浮点数\n",
    "print(type(np.random.randn(2,2)))"
   ]
  },
  {
   "cell_type": "code",
   "execution_count": 7,
   "metadata": {},
   "outputs": [
    {
     "name": "stdout",
     "output_type": "stream",
     "text": [
      "[1.12052908 0.67690853]\n",
      "<class 'numpy.ndarray'>\n"
     ]
    }
   ],
   "source": [
    "print(np.random.randn(2))  # 返回一个标准正态分布（均值为0，方差为1）的随机浮点数\n",
    "print(type(np.random.randn(2)))"
   ]
  },
  {
   "cell_type": "code",
   "execution_count": 9,
   "metadata": {},
   "outputs": [
    {
     "name": "stdout",
     "output_type": "stream",
     "text": [
      "0.19661193324148185\n",
      "<class 'numpy.float64'>\n"
     ]
    }
   ],
   "source": [
    "y=1/(1+np.exp(-1))\n",
    "print(y*(1-y))\n",
    "print(type(y*(1-y)))"
   ]
  },
  {
   "cell_type": "code",
   "execution_count": 23,
   "metadata": {},
   "outputs": [
    {
     "name": "stdout",
     "output_type": "stream",
     "text": [
      "[0.28555448 0.4074631 ]\n",
      "[1 2]\n",
      "1.100480683786572\n",
      "[0.31424719 0.44840528]\n",
      "<class 'numpy.ndarray'>\n",
      "<class 'numpy.ndarray'>\n",
      "<class 'numpy.float64'>\n"
     ]
    }
   ],
   "source": [
    "weight = np.random.rand(2)\n",
    "input = np.array([1,2])\n",
    "print(weight)\n",
    "print(input)\n",
    "y = np.dot(weight,input)\n",
    "print(y)\n",
    "print(np.dot(y,weight))\n",
    "\n",
    "print(type(weight))\n",
    "print(type(input))\n",
    "print(type(y))"
   ]
  },
  {
   "cell_type": "code",
   "execution_count": 26,
   "metadata": {},
   "outputs": [
    {
     "name": "stdout",
     "output_type": "stream",
     "text": [
      "1.100480683786572\n"
     ]
    }
   ],
   "source": [
    "print(weight.dot(input))"
   ]
  },
  {
   "cell_type": "code",
   "execution_count": 32,
   "metadata": {},
   "outputs": [
    {
     "name": "stdout",
     "output_type": "stream",
     "text": [
      "<zip object at 0x000001607F5AF800>\n",
      "[(1, 'a', True), (2, 'b', False), (3, 'c', True)]\n",
      "1\n",
      "<class 'int'>\n",
      "0\n",
      "<class 'int'>\n",
      "3\n",
      "<class 'int'>\n"
     ]
    }
   ],
   "source": [
    "a = [1, 2, 3]\n",
    "b = ['a', 'b', 'c']\n",
    "c = [True, False, True]\n",
    "\n",
    "print(zip(a, b, c))\n",
    "zipped = list(zip(a, b, c))\n",
    "print(zipped)  # 输出：[(1, 'a', True), (2, 'b', False), (3, 'c', True)]\n",
    "for i,j,k in zip(a, b, c):\n",
    "    print(i*k)\n",
    "    print(type(i*k))"
   ]
  }
 ],
 "metadata": {
  "kernelspec": {
   "display_name": "Python 3",
   "language": "python",
   "name": "python3"
  },
  "language_info": {
   "codemirror_mode": {
    "name": "ipython",
    "version": 3
   },
   "file_extension": ".py",
   "mimetype": "text/x-python",
   "name": "python",
   "nbconvert_exporter": "python",
   "pygments_lexer": "ipython3",
   "version": "3.11.6"
  }
 },
 "nbformat": 4,
 "nbformat_minor": 2
}
